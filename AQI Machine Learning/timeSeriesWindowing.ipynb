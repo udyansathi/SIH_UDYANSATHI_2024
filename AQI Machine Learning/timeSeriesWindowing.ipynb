{
 "cells": [
  {
   "cell_type": "code",
   "execution_count": 1,
   "metadata": {},
   "outputs": [],
   "source": [
    "import numpy as np \n",
    "import pandas as pd \n",
    "import seaborn as sns\n",
    "%matplotlib inline\n",
    "from matplotlib import pyplot as plt\n",
    "from matplotlib import style\n",
    "from sklearn import linear_model\n",
    "from sklearn.model_selection import train_test_split\n",
    "from sklearn.preprocessing import LabelEncoder\n",
    "from sklearn.preprocessing import MinMaxScaler\n",
    "from sklearn.metrics import mean_squared_error,r2_score\n",
    "from datetime import datetime\n"
   ]
  },
  {
   "cell_type": "code",
   "execution_count": 3,
   "metadata": {},
   "outputs": [],
   "source": [
    "def series_to_supervised(data,pred_list, n_in=1, n_out=1, dropnan=True):\n",
    " n_vars = 1 if type(data) is list else data.shape[1]\n",
    " n_pred = len(pred_list)\n",
    " df = pd.DataFrame(data)\n",
    " cols, names = list(), list()\n",
    " # input sequence (t-n, ... t-1)\n",
    " for i in range(n_in, 0, -1):\n",
    "     cols.append(df.shift(i))\n",
    "     names += [('var%d(t-%d)' % (j+1, i)) for j in range(n_vars)]\n",
    " # forecast sequence (t, t+1, ... t+n)\n",
    " for i in range(0, n_out):\n",
    "     if n_pred == 1 :\n",
    "         cols.append(df[pred_list[0]].shift(-i))\n",
    "     else:\n",
    "         cols.append(df[pred_list].shift(-i))\n",
    "        \n",
    "     if i == 0:\n",
    "         names += [('varp%d(t)' % (j+1)) for j in range(n_pred)]\n",
    "     else:\n",
    "         names += [('varp%d(t+%d)' % (j+1, i)) for j in range(n_pred)]\n",
    " # put it all together\n",
    " agg = pd.concat(cols, axis=1)\n",
    " agg.columns = names\n",
    " # drop rows with NaN values\n",
    " if dropnan:\n",
    "     agg.dropna(inplace=True)\n",
    " return agg"
   ]
  },
  {
   "cell_type": "code",
   "execution_count": 6,
   "metadata": {},
   "outputs": [],
   "source": []
  },
  {
   "cell_type": "code",
   "execution_count": null,
   "metadata": {},
   "outputs": [],
   "source": [
    "def windowData(data,pred_list,n_steps_in,n_steps_out):\n",
    "    n_features=data.shape[1]\n",
    "    \n",
    "    ### resampling data\n",
    "    \n",
    "    df_resample = data.resample('h').mean() \n",
    "    K=df_resample.isna().sum(axis=1)>3\n",
    "    l=[]\n",
    "    for i in df_resample.index:\n",
    "        if K[i]==True:\n",
    "            l.append(i)\n",
    "    df_resample=df_resample.drop(l)\n",
    "    \n",
    "    ### reframing time series data\n",
    "    \n",
    "    values = df_resample.values\n",
    "    # integer encode direction\n",
    "    # encoder = LabelEncoder()\n",
    "    # values[:,4] = encoder.fit_transform(values[:,4])\n",
    "    # ensure all data is float\n",
    "    values = values.astype('float32')\n",
    "    # normalize features\n",
    "    scaler = MinMaxScaler(feature_range=(0, 1))\n",
    "    scaled = scaler.fit_transform(values)\n",
    "    # frame as supervised learning\n",
    "    reframed = series_to_supervised(scaled,pred_list,n_steps_in, n_steps_out)\n",
    "    \n",
    "    ### split into train test\n",
    "    values = reframed.values\n",
    "    n_train_hours = 10 * 24\n",
    "    train = values[:n_train_hours, :]\n",
    "    test = values[n_train_hours:, :]\n",
    "    # split into input and outputs\n",
    "    train_X, train_Y = train[:, :n_features*n_steps_in], train[:,n_features*n_steps_in :]\n",
    "    test_X, test_Y = test[:, :n_features*n_steps_int], test[:,n_features*n_steps_in:]\n",
    "    # reshape input to be 3D [samples, timesteps, features]\n",
    "    train_X = train_X.reshape((train_X.shape[0], n_steps_in, n_features))\n",
    "    test_X = test_X.reshape((test_X.shape[0], n_steps_in, n_features))\n",
    "    \n",
    "    return train_X,train_Y,test_X,test_Y"
   ]
  },
  {
   "cell_type": "code",
   "execution_count": null,
   "metadata": {},
   "outputs": [],
   "source": [
    "\n",
    "    "
   ]
  }
 ],
 "metadata": {
  "kernelspec": {
   "display_name": "Python 3",
   "language": "python",
   "name": "python3"
  },
  "language_info": {
   "codemirror_mode": {
    "name": "ipython",
    "version": 3
   },
   "file_extension": ".py",
   "mimetype": "text/x-python",
   "name": "python",
   "nbconvert_exporter": "python",
   "pygments_lexer": "ipython3",
   "version": "3.6.5"
  }
 },
 "nbformat": 4,
 "nbformat_minor": 4
}
