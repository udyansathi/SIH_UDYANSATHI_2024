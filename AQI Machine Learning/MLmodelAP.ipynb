{
 "cells": [
  {
   "cell_type": "code",
   "execution_count": 1,
   "metadata": {},
   "outputs": [],
   "source": [
    "import numpy as np \n",
    "import pandas as pd \n",
    "import seaborn as sns\n",
    "%matplotlib inline\n",
    "from matplotlib import pyplot as plt\n",
    "from matplotlib import style\n",
    "from sklearn import linear_model\n",
    "from sklearn.linear_model import LogisticRegression\n",
    "from sklearn.ensemble import RandomForestClassifier\n",
    "from sklearn.linear_model import Perceptron\n",
    "from sklearn.linear_model import SGDClassifier\n",
    "from sklearn.tree import DecisionTreeClassifier\n",
    "from sklearn.neighbors import KNeighborsClassifier\n",
    "from sklearn.svm import SVC, LinearSVC\n",
    "from sklearn.naive_bayes import GaussianNB\n",
    "from sklearn.model_selection import train_test_split"
   ]
  },
  {
   "cell_type": "code",
   "execution_count": 2,
   "metadata": {},
   "outputs": [
    {
     "data": {
      "text/html": [
       "<div>\n",
       "<style scoped>\n",
       "    .dataframe tbody tr th:only-of-type {\n",
       "        vertical-align: middle;\n",
       "    }\n",
       "\n",
       "    .dataframe tbody tr th {\n",
       "        vertical-align: top;\n",
       "    }\n",
       "\n",
       "    .dataframe thead th {\n",
       "        text-align: right;\n",
       "    }\n",
       "</style>\n",
       "<table border=\"1\" class=\"dataframe\">\n",
       "  <thead>\n",
       "    <tr style=\"text-align: right;\">\n",
       "      <th></th>\n",
       "      <th>PM25</th>\n",
       "      <th>PM10</th>\n",
       "      <th>CO</th>\n",
       "      <th>NO2</th>\n",
       "      <th>O3</th>\n",
       "      <th>NH3</th>\n",
       "      <th>SO2</th>\n",
       "      <th>TEMPRATURE</th>\n",
       "      <th>ALTITUDE</th>\n",
       "      <th>HUMIDITY</th>\n",
       "      <th>AQI</th>\n",
       "      <th>Year</th>\n",
       "      <th>Month</th>\n",
       "      <th>Day</th>\n",
       "      <th>Hour</th>\n",
       "      <th>Weekday</th>\n",
       "    </tr>\n",
       "    <tr>\n",
       "      <th>dt</th>\n",
       "      <th></th>\n",
       "      <th></th>\n",
       "      <th></th>\n",
       "      <th></th>\n",
       "      <th></th>\n",
       "      <th></th>\n",
       "      <th></th>\n",
       "      <th></th>\n",
       "      <th></th>\n",
       "      <th></th>\n",
       "      <th></th>\n",
       "      <th></th>\n",
       "      <th></th>\n",
       "      <th></th>\n",
       "      <th></th>\n",
       "      <th></th>\n",
       "    </tr>\n",
       "  </thead>\n",
       "  <tbody>\n",
       "    <tr>\n",
       "      <th>2020-01-12 00:00:00</th>\n",
       "      <td>198.64</td>\n",
       "      <td>544.83</td>\n",
       "      <td>2.12</td>\n",
       "      <td>10.60</td>\n",
       "      <td>2.49</td>\n",
       "      <td>20.30</td>\n",
       "      <td>1.87</td>\n",
       "      <td>13.67</td>\n",
       "      <td>185</td>\n",
       "      <td>65</td>\n",
       "      <td>363.22</td>\n",
       "      <td>2020</td>\n",
       "      <td>1</td>\n",
       "      <td>12</td>\n",
       "      <td>0</td>\n",
       "      <td>6</td>\n",
       "    </tr>\n",
       "    <tr>\n",
       "      <th>2020-01-12 00:15:00</th>\n",
       "      <td>197.78</td>\n",
       "      <td>526.72</td>\n",
       "      <td>2.25</td>\n",
       "      <td>10.92</td>\n",
       "      <td>2.47</td>\n",
       "      <td>20.33</td>\n",
       "      <td>2.81</td>\n",
       "      <td>13.63</td>\n",
       "      <td>187</td>\n",
       "      <td>59</td>\n",
       "      <td>351.15</td>\n",
       "      <td>2020</td>\n",
       "      <td>1</td>\n",
       "      <td>12</td>\n",
       "      <td>0</td>\n",
       "      <td>6</td>\n",
       "    </tr>\n",
       "    <tr>\n",
       "      <th>2020-01-12 00:30:00</th>\n",
       "      <td>192.20</td>\n",
       "      <td>409.04</td>\n",
       "      <td>2.22</td>\n",
       "      <td>11.50</td>\n",
       "      <td>2.42</td>\n",
       "      <td>20.22</td>\n",
       "      <td>2.52</td>\n",
       "      <td>13.40</td>\n",
       "      <td>188</td>\n",
       "      <td>64</td>\n",
       "      <td>272.69</td>\n",
       "      <td>2020</td>\n",
       "      <td>1</td>\n",
       "      <td>12</td>\n",
       "      <td>0</td>\n",
       "      <td>6</td>\n",
       "    </tr>\n",
       "    <tr>\n",
       "      <th>2020-01-12 00:45:00</th>\n",
       "      <td>192.20</td>\n",
       "      <td>409.04</td>\n",
       "      <td>2.06</td>\n",
       "      <td>11.08</td>\n",
       "      <td>2.33</td>\n",
       "      <td>20.76</td>\n",
       "      <td>2.41</td>\n",
       "      <td>13.44</td>\n",
       "      <td>195</td>\n",
       "      <td>64</td>\n",
       "      <td>272.69</td>\n",
       "      <td>2020</td>\n",
       "      <td>1</td>\n",
       "      <td>12</td>\n",
       "      <td>0</td>\n",
       "      <td>6</td>\n",
       "    </tr>\n",
       "    <tr>\n",
       "      <th>2020-01-12 01:00:00</th>\n",
       "      <td>192.20</td>\n",
       "      <td>409.04</td>\n",
       "      <td>1.93</td>\n",
       "      <td>10.43</td>\n",
       "      <td>2.29</td>\n",
       "      <td>19.59</td>\n",
       "      <td>2.40</td>\n",
       "      <td>13.51</td>\n",
       "      <td>190</td>\n",
       "      <td>60</td>\n",
       "      <td>272.69</td>\n",
       "      <td>2020</td>\n",
       "      <td>1</td>\n",
       "      <td>12</td>\n",
       "      <td>1</td>\n",
       "      <td>6</td>\n",
       "    </tr>\n",
       "  </tbody>\n",
       "</table>\n",
       "</div>"
      ],
      "text/plain": [
       "                       PM25    PM10    CO    NO2    O3    NH3   SO2  \\\n",
       "dt                                                                    \n",
       "2020-01-12 00:00:00  198.64  544.83  2.12  10.60  2.49  20.30  1.87   \n",
       "2020-01-12 00:15:00  197.78  526.72  2.25  10.92  2.47  20.33  2.81   \n",
       "2020-01-12 00:30:00  192.20  409.04  2.22  11.50  2.42  20.22  2.52   \n",
       "2020-01-12 00:45:00  192.20  409.04  2.06  11.08  2.33  20.76  2.41   \n",
       "2020-01-12 01:00:00  192.20  409.04  1.93  10.43  2.29  19.59  2.40   \n",
       "\n",
       "                     TEMPRATURE  ALTITUDE  HUMIDITY     AQI  Year  Month  Day  \\\n",
       "dt                                                                              \n",
       "2020-01-12 00:00:00       13.67       185        65  363.22  2020      1   12   \n",
       "2020-01-12 00:15:00       13.63       187        59  351.15  2020      1   12   \n",
       "2020-01-12 00:30:00       13.40       188        64  272.69  2020      1   12   \n",
       "2020-01-12 00:45:00       13.44       195        64  272.69  2020      1   12   \n",
       "2020-01-12 01:00:00       13.51       190        60  272.69  2020      1   12   \n",
       "\n",
       "                     Hour  Weekday  \n",
       "dt                                  \n",
       "2020-01-12 00:00:00     0        6  \n",
       "2020-01-12 00:15:00     0        6  \n",
       "2020-01-12 00:30:00     0        6  \n",
       "2020-01-12 00:45:00     0        6  \n",
       "2020-01-12 01:00:00     1        6  "
      ]
     },
     "execution_count": 2,
     "metadata": {},
     "output_type": "execute_result"
    }
   ],
   "source": [
    "df=pd.read_pickle(\"./Data/filteredData.pkl\")\n",
    "df.head()"
   ]
  },
  {
   "cell_type": "code",
   "execution_count": 3,
   "metadata": {},
   "outputs": [
    {
     "data": {
      "text/plain": [
       "array([[198.64, 544.83,   2.12, ...,  12.  ,   0.  ,   6.  ],\n",
       "       [197.78, 526.72,   2.25, ...,  12.  ,   0.  ,   6.  ],\n",
       "       [192.2 , 409.04,   2.22, ...,  12.  ,   0.  ,   6.  ],\n",
       "       ...,\n",
       "       [  9.65, 125.77,   0.87, ...,  14.  ,  12.  ,   0.  ],\n",
       "       [  9.62, 128.72,   0.86, ...,  14.  ,  12.  ,   0.  ],\n",
       "       [  9.24, 159.03,   0.81, ...,  14.  ,  12.  ,   0.  ]])"
      ]
     },
     "execution_count": 3,
     "metadata": {},
     "output_type": "execute_result"
    }
   ],
   "source": [
    "df.values"
   ]
  },
  {
   "cell_type": "code",
   "execution_count": 4,
   "metadata": {},
   "outputs": [],
   "source": [
    "X=df.drop(\"AQI\",axis=1)\n",
    "Y=df[\"AQI\"]\n",
    "n=df.shape[0]\n",
    "n=int (n*0.65)\n",
    "train_x=X[:n-1]\n",
    "test_x=X[n-1:-1]\n",
    "train_y=Y[1:n]\n",
    "test_y=Y[n:]\n",
    "train_y=train_y.astype(int)\n",
    "test_y=test_y.astype(int)"
   ]
  },
  {
   "cell_type": "markdown",
   "metadata": {},
   "source": [
    "### Logistic Regression"
   ]
  },
  {
   "cell_type": "code",
   "execution_count": 5,
   "metadata": {},
   "outputs": [
    {
     "name": "stderr",
     "output_type": "stream",
     "text": [
      "C:\\Users\\Sahil Kumar\\Anaconda3\\lib\\site-packages\\sklearn\\linear_model\\_logistic.py:764: ConvergenceWarning: lbfgs failed to converge (status=1):\n",
      "STOP: TOTAL NO. of ITERATIONS REACHED LIMIT.\n",
      "\n",
      "Increase the number of iterations (max_iter) or scale the data as shown in:\n",
      "    https://scikit-learn.org/stable/modules/preprocessing.html\n",
      "Please also refer to the documentation for alternative solver options:\n",
      "    https://scikit-learn.org/stable/modules/linear_model.html#logistic-regression\n",
      "  extra_warning_msg=_LOGISTIC_SOLVER_CONVERGENCE_MSG)\n"
     ]
    },
    {
     "data": {
      "text/plain": [
       "array([474, 474, 388, 530, 530, 530, 530, 435, 435, 435, 435, 434, 434,\n",
       "       434, 434, 359, 359, 359, 359, 359, 359, 359, 359, 368, 368, 368,\n",
       "       326, 326, 326, 326, 282, 219, 219, 219, 219, 196, 196, 196, 196,\n",
       "       196, 196, 196, 196, 196, 196, 196, 196, 156, 156, 156, 156, 156,\n",
       "       156, 156, 156, 190, 190, 190, 190, 226, 226, 226, 226, 226, 226,\n",
       "       226, 226, 124, 124, 124, 124, 114, 114, 114, 114, 114, 114, 114,\n",
       "       114, 114, 114, 114, 114, 114, 114, 114, 114, 114, 114, 114, 118,\n",
       "       281, 344, 344, 344, 344, 344, 344, 344, 344, 344, 393, 393, 305,\n",
       "       305, 305, 393, 393, 393, 393, 393, 273, 273, 273, 273, 226, 226,\n",
       "       220, 220, 190, 190, 190, 190, 190, 190, 190, 190, 190, 190, 190,\n",
       "       190, 156, 156, 156, 156, 190, 190, 196, 196, 196, 156, 196, 156,\n",
       "       132, 132, 132, 132, 156, 156, 156, 156, 190, 190, 190, 209, 404,\n",
       "       404, 393, 393, 307, 257, 307, 257, 209, 208, 209, 209, 194, 194,\n",
       "       194, 208, 226, 226, 226, 226, 226, 226, 226, 226, 176, 176, 176,\n",
       "       176, 176, 176, 174, 174, 344, 344, 344, 344, 404, 404, 474, 474,\n",
       "       438, 438, 438, 438, 438, 393, 393, 393, 393, 393, 393, 393, 344,\n",
       "       344, 344, 344, 282, 282, 242, 242, 242, 242, 242, 242, 220, 220,\n",
       "       220, 220, 220, 220, 220, 220, 220, 220, 220, 220, 220, 220, 220,\n",
       "       220, 257, 257, 257, 220, 220, 220, 220, 220, 220, 220, 220, 220,\n",
       "       257, 257, 257, 257, 220, 220, 220, 220, 174, 174, 174, 174, 174,\n",
       "       174, 174, 118, 118, 118, 118, 118, 174, 174, 174, 174, 208, 194,\n",
       "       194, 194, 226, 226, 226, 226, 257, 226, 226, 281, 257, 257, 344,\n",
       "       257, 273, 273, 273, 273, 307, 307, 273, 307, 344, 344, 344, 344,\n",
       "       344, 344, 344, 344, 344, 344, 344, 344, 344, 344, 281, 281, 257,\n",
       "       257, 257, 257, 281, 281, 281, 281, 220, 220, 220, 220, 217, 217,\n",
       "       217, 174, 174, 174, 174, 174, 174, 174, 174, 174, 174, 174, 174,\n",
       "       174, 174, 174, 174, 174, 174, 174, 174, 174, 174, 174, 174, 174,\n",
       "       174, 118, 118, 118, 114, 114, 114, 114, 114, 114, 114, 114, 114,\n",
       "       114, 114, 114, 114, 114, 114, 114, 114, 114, 114, 114, 114, 114,\n",
       "       114, 114, 114, 114, 114, 114, 114, 114, 114, 114, 132, 132, 132,\n",
       "       132, 132, 132, 132, 132, 132, 132, 132, 132, 132, 132, 132, 132,\n",
       "       132, 132, 132, 132, 132, 132, 132, 132, 132, 132, 132, 132, 132,\n",
       "       132, 132, 132, 132, 114, 114, 114, 114, 114, 114, 114, 114, 114,\n",
       "       114, 114, 174, 174, 174, 174, 174, 174, 174, 174, 174, 174, 174,\n",
       "       174, 174, 174, 174, 118, 114, 114, 114, 114, 114, 114, 114, 114])"
      ]
     },
     "execution_count": 5,
     "metadata": {},
     "output_type": "execute_result"
    }
   ],
   "source": [
    "model=LogisticRegression()\n",
    "model.fit(train_x,train_y)\n",
    "p=model.predict(test_x)\n",
    "acc_log= round(model.score(train_x,train_y) * 100, 2)\n",
    "acc_logP= round(model.score(test_x,test_y) * 100, 2)\n",
    "p"
   ]
  },
  {
   "cell_type": "markdown",
   "metadata": {},
   "source": [
    "### KNN"
   ]
  },
  {
   "cell_type": "code",
   "execution_count": 6,
   "metadata": {},
   "outputs": [
    {
     "data": {
      "text/plain": [
       "array([412, 380, 388, 530, 530, 444, 530, 476, 476, 476, 441, 444, 444,\n",
       "       444, 444, 278, 278, 278, 278, 393, 278, 393, 278, 333, 333, 333,\n",
       "       333, 286, 286, 286, 255, 177, 177, 182, 177, 177, 177, 177, 177,\n",
       "       176, 176, 156, 176, 176, 176, 176, 156, 152, 147, 147, 152, 155,\n",
       "       155, 155, 155, 177, 177, 177, 177, 237, 237, 237, 237, 237, 220,\n",
       "       270, 216, 114, 114, 114, 114, 114, 114, 114, 114, 114, 114, 114,\n",
       "       114, 114, 114, 114, 114, 114, 114, 114, 114, 114, 114, 114, 119,\n",
       "       229, 229, 229, 229, 344, 344, 344, 344, 344, 344, 381, 381, 303,\n",
       "       303, 303, 317, 321, 321, 321, 355, 305, 305, 305, 305, 282, 229,\n",
       "       237, 237, 206, 206, 206, 206, 206, 206, 206, 206, 182, 182, 182,\n",
       "       182, 156, 156, 156, 156, 132, 132, 176, 132, 156, 156, 156, 157,\n",
       "       132, 132, 132, 132, 155, 155, 155, 155, 200, 200, 200, 190, 257,\n",
       "       355, 355, 257, 289, 289, 289, 289, 216, 216, 216, 216, 194, 194,\n",
       "       194, 194, 270, 270, 193, 243, 209, 209, 209, 243, 166, 166, 183,\n",
       "       174, 183, 183, 183, 183, 281, 255, 255, 284, 391, 391, 391, 404,\n",
       "       474, 474, 305, 305, 305, 380, 380, 350, 321, 325, 321, 321, 321,\n",
       "       321, 321, 321, 273, 273, 279, 279, 242, 242, 242, 242, 237, 237,\n",
       "       237, 237, 220, 237, 220, 220, 220, 220, 220, 220, 237, 220, 237,\n",
       "       237, 257, 257, 257, 257, 249, 249, 229, 249, 229, 229, 249, 229,\n",
       "       289, 289, 289, 289, 237, 220, 220, 220, 186, 196, 196, 172, 119,\n",
       "       119, 119, 119, 103, 103, 103, 103, 177, 177, 177, 167, 194, 183,\n",
       "       194, 194, 229, 229, 249, 249, 229, 229, 229, 249, 255, 255, 282,\n",
       "       282, 261, 261, 305, 305, 305, 305, 305, 305, 321, 321, 321, 277,\n",
       "       324, 324, 324, 324, 296, 296, 296, 296, 255, 281, 281, 281, 281,\n",
       "       281, 281, 281, 255, 281, 281, 255, 226, 287, 249, 226, 217, 217,\n",
       "       217, 209, 172, 172, 174, 172, 172, 172, 172, 172, 119, 119, 119,\n",
       "       119, 119, 119, 119, 119, 196, 196, 196, 196, 217, 217, 217, 217,\n",
       "       119, 119, 119, 119, 114, 114, 114, 114, 114, 114, 114, 114, 114,\n",
       "       114, 114, 114, 114, 114, 114, 114, 114, 114, 114, 114, 124, 124,\n",
       "       124, 124, 114, 114, 114, 114, 114, 114, 114, 114, 114, 114, 114,\n",
       "       114, 114, 114, 114, 114, 124, 124, 124, 124, 141, 141, 141, 141,\n",
       "       124, 124, 119, 124, 124, 124, 124, 124, 114, 124, 114, 114, 114,\n",
       "       114, 114, 114, 114, 114, 114, 114, 114, 114, 114, 114, 114, 114,\n",
       "       114, 114, 119, 119, 119, 119, 196, 196, 196, 196, 217, 217, 217,\n",
       "       217, 119, 119, 119, 119, 114, 114, 114, 114, 114, 114, 114, 114])"
      ]
     },
     "execution_count": 6,
     "metadata": {},
     "output_type": "execute_result"
    }
   ],
   "source": [
    "knn = KNeighborsClassifier(n_neighbors = 3) \n",
    "knn.fit(train_x,train_y)  \n",
    "Y_pred = knn.predict(test_x)  \n",
    "acc_knn = round(knn.score(train_x,train_y) * 100, 2)  \n",
    "acc_knnP = round(knn.score(test_x,test_y) * 100, 2)\n",
    "Y_pred"
   ]
  },
  {
   "cell_type": "markdown",
   "metadata": {},
   "source": [
    "### Random Forest"
   ]
  },
  {
   "cell_type": "code",
   "execution_count": 7,
   "metadata": {},
   "outputs": [
    {
     "data": {
      "text/plain": [
       "array([423, 423, 423, 423, 423, 474, 476, 278, 278, 278, 474, 423, 476,\n",
       "       476, 368, 476, 476, 476, 476, 321, 321, 359, 359, 368, 368, 317,\n",
       "       368, 317, 255, 242, 359, 242, 242, 242, 242, 181, 181, 182, 181,\n",
       "       181, 186, 186, 186, 181, 186, 181, 186, 186, 186, 186, 186, 186,\n",
       "       186, 186, 186, 186, 186, 186, 186, 296, 243, 296, 238, 227, 186,\n",
       "       119, 186, 127, 189, 189, 189, 189, 189, 119, 189, 189, 119, 119,\n",
       "       173, 189, 189, 189, 189, 189, 189, 119, 119, 119, 119, 135, 296,\n",
       "       322, 296, 296, 296, 307, 307, 307, 423, 359, 393, 423, 423, 423,\n",
       "       423, 423, 423, 423, 423, 423, 423, 423, 423, 423, 423, 273, 273,\n",
       "       242, 242, 226, 296, 296, 122, 192, 122, 192, 192, 132, 192, 178,\n",
       "       178, 122, 122, 122, 122, 122, 122, 122, 122, 152, 122, 152, 122,\n",
       "       152, 132, 147, 147, 147, 147, 147, 147, 147, 216, 296, 216, 434,\n",
       "       457, 434, 289, 289, 243, 289, 296, 216, 216, 227, 209, 192, 192,\n",
       "       192, 201, 255, 296, 255, 243, 255, 255, 255, 119, 119, 119, 119,\n",
       "       119, 296, 183, 183, 183, 296, 296, 208, 324, 324, 324, 324, 324,\n",
       "       324, 324, 284, 324, 208, 284, 324, 359, 324, 359, 324, 284, 273,\n",
       "       273, 273, 273, 273, 273, 270, 242, 242, 242, 242, 242, 122, 122,\n",
       "       122, 122, 237, 237, 122, 122, 122, 122, 122, 122, 122, 122, 122,\n",
       "       122, 122, 122, 242, 242, 206, 226, 226, 122, 122, 226, 281, 122,\n",
       "       122, 122, 122, 122, 122, 122, 122, 122, 133, 147, 132, 186, 122,\n",
       "       132, 119, 145, 133, 119, 296, 124, 124, 147, 124, 124, 296, 192,\n",
       "       296, 296, 270, 296, 243, 296, 296, 296, 296, 296, 307, 296, 307,\n",
       "       307, 423, 423, 423, 312, 312, 312, 282, 307, 307, 423, 423, 359,\n",
       "       359, 423, 273, 273, 273, 273, 273, 273, 273, 273, 242, 242, 242,\n",
       "       326, 242, 242, 242, 242, 281, 242, 281, 242, 133, 281, 132, 133,\n",
       "       209, 132, 182, 132, 132, 182, 133, 124, 124, 124, 124, 132, 133,\n",
       "       132, 132, 124, 132, 132, 182, 182, 182, 182, 212, 188, 124, 201,\n",
       "       124, 125, 124, 125, 124, 124, 124, 124, 124, 124, 124, 124, 124,\n",
       "       124, 124, 124, 124, 124, 124, 124, 124, 124, 124, 124, 124, 124,\n",
       "       124, 124, 124, 124, 124, 124, 124, 124, 132, 133, 122, 122, 122,\n",
       "       122, 122, 122, 122, 122, 122, 122, 122, 122, 122, 122, 122, 133,\n",
       "       122, 122, 132, 133, 133, 122, 133, 122, 133, 133, 174, 174, 174,\n",
       "       174, 174, 174, 122, 174, 174, 174, 174, 174, 174, 174, 174, 174,\n",
       "       174, 174, 174, 174, 172, 172, 186, 186, 186, 186, 133, 209, 227,\n",
       "       217, 186, 209, 186, 186, 122, 122, 119, 185, 119, 124, 135, 122])"
      ]
     },
     "execution_count": 7,
     "metadata": {},
     "output_type": "execute_result"
    }
   ],
   "source": [
    "random_forest = RandomForestClassifier(n_estimators=100)\n",
    "random_forest.fit(train_x,train_y)\n",
    "\n",
    "Y_prediction = random_forest.predict(test_x)\n",
    "\n",
    "acc_random_forest = round(random_forest.score(train_x,train_y) * 100, 2)\n",
    "acc_random_forestP = round(random_forest.score(test_x,test_y) * 100, 2)\n",
    "Y_prediction"
   ]
  },
  {
   "cell_type": "markdown",
   "metadata": {},
   "source": [
    "### Decision Tree"
   ]
  },
  {
   "cell_type": "code",
   "execution_count": 8,
   "metadata": {},
   "outputs": [
    {
     "data": {
      "text/plain": [
       "array([307, 476, 307, 477, 477, 474, 474, 351, 351, 351, 351, 477, 477,\n",
       "       477, 477, 477, 477, 477, 477, 477, 477, 326, 326, 326, 326, 334,\n",
       "       334, 334, 334, 334, 334, 264, 264, 242, 237, 178, 178, 290, 290,\n",
       "       179, 290, 179, 290, 184, 172, 179, 172, 122, 132, 132, 132, 132,\n",
       "       122, 132, 132, 186, 186, 186, 322, 264, 368, 264, 264, 219, 219,\n",
       "       219, 222, 145, 145, 105, 105, 105, 105, 112, 112, 189, 189, 131,\n",
       "       131, 131, 131, 124, 124, 124, 124, 124, 124, 124, 124, 124, 124,\n",
       "       119, 273, 273, 273, 467, 467, 467, 467, 467, 467, 467, 296, 476,\n",
       "       476, 296, 296, 296, 296, 296, 296, 474, 474, 474, 468, 273, 273,\n",
       "       264, 264, 196, 196, 196, 196, 216, 216, 196, 196, 186, 186, 186,\n",
       "       183, 132, 132, 132, 132, 179, 290, 177, 132, 177, 177, 290, 122,\n",
       "       132, 132, 132, 132, 132, 132, 132, 122, 216, 200, 196, 192, 434,\n",
       "       368, 467, 467, 467, 427, 427, 119, 217, 188, 188, 188, 196, 216,\n",
       "       196, 226, 119, 119, 119, 119, 119, 119, 119, 119, 183, 183, 183,\n",
       "       183, 183, 183, 183, 186, 273, 273, 270, 324, 404, 404, 363, 404,\n",
       "       321, 321, 363, 321, 385, 363, 404, 385, 350, 350, 350, 351, 272,\n",
       "       272, 272, 272, 242, 242, 242, 242, 242, 242, 242, 242, 270, 270,\n",
       "       270, 270, 270, 270, 270, 270, 270, 270, 270, 270, 270, 270, 270,\n",
       "       270, 270, 270, 270, 270, 270, 270, 270, 270, 270, 270, 270, 270,\n",
       "       272, 272, 272, 270, 270, 270, 270, 281, 166, 166, 166, 183, 158,\n",
       "       158, 143, 158, 119, 119,  87,  87, 177, 132, 186, 186, 216, 196,\n",
       "       196, 196, 257, 257, 257, 257, 257, 257, 273, 273, 273, 273, 273,\n",
       "       273, 312, 312, 312, 441, 441, 441, 352, 441, 441, 401, 401, 401,\n",
       "       343, 343, 343, 343, 343, 359, 359, 359, 270, 270, 270, 368, 264,\n",
       "       264, 368, 368, 264, 264, 264, 264, 270, 270, 270, 270, 216, 216,\n",
       "       216, 188, 177, 177, 177, 177, 177, 177, 177, 177, 156, 156, 156,\n",
       "       158, 158, 156, 143, 132, 186, 186, 186, 181, 188, 206, 226, 197,\n",
       "       183, 183, 183, 156, 176, 176, 176, 176, 176, 176, 176, 176, 176,\n",
       "       176, 129, 129, 129, 129, 155, 155, 155, 155, 155, 155, 155, 155,\n",
       "       155, 155, 155, 155, 241, 241, 241, 241, 132, 133, 122, 133, 133,\n",
       "       132, 133, 122, 132, 133, 133, 122, 133, 122, 133, 122, 132, 132,\n",
       "       133, 132, 132, 133, 133, 133, 133, 133, 133, 122, 149, 141, 141,\n",
       "       141, 141, 149, 133, 141, 141, 141, 141, 141, 141, 141, 141, 141,\n",
       "       141, 141, 141, 141, 141, 149, 186, 186, 186, 195, 188, 206, 188,\n",
       "       201, 183, 183, 183, 141, 141, 141, 141, 141, 141, 141, 141, 141])"
      ]
     },
     "execution_count": 8,
     "metadata": {},
     "output_type": "execute_result"
    }
   ],
   "source": [
    "decision_tree = DecisionTreeClassifier() \n",
    "decision_tree.fit(train_x,train_y)  \n",
    "Y_pred2 = decision_tree.predict(test_x)  \n",
    "acc_decision_tree = round(decision_tree.score(train_x,train_y) * 100, 2)  \n",
    "acc_decision_treeP = round(decision_tree.score(test_x,test_y) * 100, 2)\n",
    "Y_pred2"
   ]
  },
  {
   "cell_type": "markdown",
   "metadata": {},
   "source": [
    "### 'Support Vector Machines"
   ]
  },
  {
   "cell_type": "code",
   "execution_count": 9,
   "metadata": {},
   "outputs": [
    {
     "name": "stderr",
     "output_type": "stream",
     "text": [
      "C:\\Users\\Sahil Kumar\\Anaconda3\\lib\\site-packages\\sklearn\\svm\\_base.py:977: ConvergenceWarning: Liblinear failed to converge, increase the number of iterations.\n",
      "  \"the number of iterations.\", ConvergenceWarning)\n"
     ]
    },
    {
     "data": {
      "text/plain": [
       "array([393, 393, 393, 393, 393, 393, 393, 393, 393, 393, 393, 393, 393,\n",
       "       393, 393, 393, 393, 393, 393, 393, 393, 209, 209, 209, 209, 209,\n",
       "       209, 209, 209, 209, 209, 209, 209, 209, 209, 209, 209, 209, 209,\n",
       "       209, 209, 209, 209, 209, 209, 209, 209, 209, 209, 209, 209, 209,\n",
       "       209, 209, 209, 209, 209, 209, 209, 209, 209, 209, 209, 209, 209,\n",
       "       209, 209, 209, 209, 209, 209, 209, 209, 209, 209, 209, 209, 209,\n",
       "       209, 209, 209, 209, 209, 209, 209, 209, 209, 209, 209, 209, 209,\n",
       "       209, 209, 209, 209, 209, 209, 209, 209, 393, 209, 209, 209, 209,\n",
       "       209, 209, 393, 209, 393, 209, 209, 209, 209, 209, 209, 209, 209,\n",
       "       209, 209, 209, 209, 209, 209, 209, 209, 209, 209, 209, 209, 209,\n",
       "       209, 209, 209, 209, 209, 209, 209, 209, 209, 209, 209, 209, 209,\n",
       "       209, 209, 209, 209, 209, 209, 209, 209, 209, 209, 209, 209, 209,\n",
       "       209, 209, 209, 209, 209, 209, 209, 209, 209, 209, 209, 209, 209,\n",
       "       209, 209, 209, 209, 209, 209, 209, 209, 209, 209, 209, 209, 209,\n",
       "       209, 209, 209, 209, 209, 209, 209, 209, 209, 393, 393, 209, 393,\n",
       "       393, 393, 393, 393, 393, 393, 393, 393, 393, 393, 393, 393, 209,\n",
       "       209, 393, 209, 209, 209, 209, 209, 209, 209, 209, 209, 209, 209,\n",
       "       209, 209, 209, 209, 209, 209, 209, 209, 209, 209, 209, 209, 209,\n",
       "       209, 209, 209, 209, 209, 209, 209, 209, 209, 209, 209, 209, 209,\n",
       "       209, 209, 209, 209, 209, 209, 209, 209, 209, 209, 209, 209, 209,\n",
       "       209, 209, 209, 209, 209, 209, 209, 209, 209, 209, 209, 209, 209,\n",
       "       209, 209, 209, 209, 209, 209, 209, 209, 209, 209, 209, 209, 209,\n",
       "       209, 209, 209, 209, 393, 209, 209, 209, 209, 393, 393, 393, 393,\n",
       "       393, 393, 393, 393, 393, 209, 393, 393, 393, 393, 209, 209, 209,\n",
       "       209, 209, 209, 209, 209, 209, 209, 209, 209, 209, 209, 209, 209,\n",
       "       209, 209, 209, 209, 209, 209, 209, 209, 209, 209, 209, 209, 209,\n",
       "       209, 209, 209, 209, 209, 209, 209, 209, 209, 209, 209, 209, 209,\n",
       "       209, 209, 209, 209, 209, 209, 209, 209, 209, 209, 209, 209, 209,\n",
       "       209, 209, 209, 209, 209, 209, 209, 209, 209, 209, 209, 193, 193,\n",
       "       193, 193, 193, 193, 193, 193, 193, 193, 193, 193, 193, 193, 193,\n",
       "       193, 193, 193, 193, 193, 193, 193, 193, 193, 193, 193, 193, 193,\n",
       "       193, 193, 209, 209, 209, 209, 209, 209, 209, 209, 209, 209, 209,\n",
       "       209, 209, 209, 209, 209, 209, 209, 209, 209, 209, 209, 209, 209,\n",
       "       209, 209, 209, 209, 209, 209, 209, 209, 209, 209, 209, 209, 209,\n",
       "       209, 209, 209, 209, 209, 209, 209, 209, 209, 209, 209, 209, 209])"
      ]
     },
     "execution_count": 9,
     "metadata": {},
     "output_type": "execute_result"
    }
   ],
   "source": [
    "linear_svc = LinearSVC()\n",
    "linear_svc.fit(train_x,train_y)\n",
    "\n",
    "Y_pred3 = linear_svc.predict(test_x)\n",
    "\n",
    "acc_linear_svc = round(linear_svc.score(train_x,train_y) * 100, 2)\n",
    "acc_linear_svcP = round(linear_svc.score(test_x,test_y) * 100, 2)\n",
    "Y_pred3"
   ]
  },
  {
   "cell_type": "markdown",
   "metadata": {},
   "source": [
    "### RESULT"
   ]
  },
  {
   "cell_type": "code",
   "execution_count": 10,
   "metadata": {},
   "outputs": [
    {
     "data": {
      "text/html": [
       "<div>\n",
       "<style scoped>\n",
       "    .dataframe tbody tr th:only-of-type {\n",
       "        vertical-align: middle;\n",
       "    }\n",
       "\n",
       "    .dataframe tbody tr th {\n",
       "        vertical-align: top;\n",
       "    }\n",
       "\n",
       "    .dataframe thead th {\n",
       "        text-align: right;\n",
       "    }\n",
       "</style>\n",
       "<table border=\"1\" class=\"dataframe\">\n",
       "  <thead>\n",
       "    <tr style=\"text-align: right;\">\n",
       "      <th></th>\n",
       "      <th>Train_Score</th>\n",
       "      <th>Test_Score</th>\n",
       "    </tr>\n",
       "    <tr>\n",
       "      <th>Model</th>\n",
       "      <th></th>\n",
       "      <th></th>\n",
       "    </tr>\n",
       "  </thead>\n",
       "  <tbody>\n",
       "    <tr>\n",
       "      <th>KNN</th>\n",
       "      <td>57.65</td>\n",
       "      <td>2.86</td>\n",
       "    </tr>\n",
       "    <tr>\n",
       "      <th>Random Forest</th>\n",
       "      <td>100.00</td>\n",
       "      <td>1.54</td>\n",
       "    </tr>\n",
       "    <tr>\n",
       "      <th>Decision Tree</th>\n",
       "      <td>100.00</td>\n",
       "      <td>0.66</td>\n",
       "    </tr>\n",
       "    <tr>\n",
       "      <th>Logistic Regression</th>\n",
       "      <td>19.45</td>\n",
       "      <td>0.22</td>\n",
       "    </tr>\n",
       "    <tr>\n",
       "      <th>Support Vector Machines</th>\n",
       "      <td>2.73</td>\n",
       "      <td>0.00</td>\n",
       "    </tr>\n",
       "  </tbody>\n",
       "</table>\n",
       "</div>"
      ],
      "text/plain": [
       "                         Train_Score  Test_Score\n",
       "Model                                           \n",
       "KNN                            57.65        2.86\n",
       "Random Forest                 100.00        1.54\n",
       "Decision Tree                 100.00        0.66\n",
       "Logistic Regression            19.45        0.22\n",
       "Support Vector Machines         2.73        0.00"
      ]
     },
     "execution_count": 10,
     "metadata": {},
     "output_type": "execute_result"
    }
   ],
   "source": [
    "results = pd.DataFrame({\n",
    "    'Model': ['Support Vector Machines', 'KNN', 'Logistic Regression', \n",
    "              'Random Forest', 'Decision Tree'],\n",
    "    'Train_Score': [acc_linear_svc, acc_knn, acc_log, \n",
    "              acc_random_forest,acc_decision_tree],\n",
    "    'Test_Score': [acc_linear_svcP, acc_knnP, acc_logP, \n",
    "              acc_random_forestP,acc_decision_treeP]})\n",
    "result_df = results.sort_values(by='Test_Score', ascending=False)\n",
    "result_df = result_df.set_index('Model')\n",
    "result_df"
   ]
  },
  {
   "cell_type": "markdown",
   "metadata": {},
   "source": [
    "### Evaluation"
   ]
  },
  {
   "cell_type": "code",
   "execution_count": 11,
   "metadata": {},
   "outputs": [],
   "source": [
    "from sklearn.metrics import plot_confusion_matrix\n",
    "\n",
    "from sklearn.metrics import mean_squared_error,r2_score"
   ]
  },
  {
   "cell_type": "code",
   "execution_count": 12,
   "metadata": {},
   "outputs": [],
   "source": [
    "# Support Vector Machines\n",
    "\n",
    "#plot_confusion_matrix(linear_svc,test_x,test_y)"
   ]
  },
  {
   "cell_type": "code",
   "execution_count": 13,
   "metadata": {},
   "outputs": [],
   "source": [
    "# KNN\n",
    "\n",
    "#plot_confusion_matrix(knn,test_x,test_y)"
   ]
  },
  {
   "cell_type": "code",
   "execution_count": 15,
   "metadata": {},
   "outputs": [
    {
     "name": "stdout",
     "output_type": "stream",
     "text": [
      "Test RMSE: 31.657\n"
     ]
    }
   ],
   "source": [
    "rmse = np.sqrt(mean_squared_error(p, test_y))\n",
    "print('Test RMSE: %.3f' % rmse)"
   ]
  },
  {
   "cell_type": "code",
   "execution_count": 16,
   "metadata": {},
   "outputs": [
    {
     "data": {
      "image/png": "[encoded data removed]",
      "text/plain": [
       "<Figure size 432x288 with 1 Axes>"
      ]
     },
     "metadata": {
      "needs_background": "light"
     },
     "output_type": "display_data"
    }
   ],
   "source": [
    "# Logistic Regression  \n",
    "plt.plot(range(len(test_y)), test_y,label=\"Test Data\") \n",
    "plt.plot(range(len(test_y)), p,label=\"Predicted\")\n",
    "plt.xlabel('x - axis') \n",
    "plt.ylabel('AQI')\n",
    "plt.title('Logistic Regression')\n",
    "plt.legend()\n",
    "plt.show() "
   ]
  },
  {
   "cell_type": "code",
   "execution_count": 17,
   "metadata": {},
   "outputs": [
    {
     "name": "stdout",
     "output_type": "stream",
     "text": [
      "Test RMSE: 34.992\n"
     ]
    }
   ],
   "source": [
    "rmse1 = np.sqrt(mean_squared_error(Y_pred, test_y))\n",
    "print('Test RMSE: %.3f' % rmse1)"
   ]
  },
  {
   "cell_type": "code",
   "execution_count": 18,
   "metadata": {},
   "outputs": [
    {
     "data": {
      "image/png": "[encoded data removed]",
      "text/plain": [
       "<Figure size 432x288 with 1 Axes>"
      ]
     },
     "metadata": {
      "needs_background": "light"
     },
     "output_type": "display_data"
    }
   ],
   "source": [
    "# KNN  \n",
    "plt.plot(range(len(test_y)), test_y,label=\"Test Data\") \n",
    "plt.plot(range(len(test_y)), Y_pred,label=\"Predicted\")\n",
    "plt.xlabel('x - axis') \n",
    "plt.ylabel('AQI')\n",
    "plt.title('KNN')\n",
    "plt.legend()\n",
    "plt.show() "
   ]
  },
  {
   "cell_type": "code",
   "execution_count": 19,
   "metadata": {},
   "outputs": [
    {
     "name": "stdout",
     "output_type": "stream",
     "text": [
      "Test RMSE: 77.950\n"
     ]
    }
   ],
   "source": [
    "rmse2 = np.sqrt(mean_squared_error(Y_pred3, test_y))\n",
    "print('Test RMSE: %.3f' % rmse2)"
   ]
  },
  {
   "cell_type": "code",
   "execution_count": 20,
   "metadata": {},
   "outputs": [
    {
     "data": {
      "image/png": "[encoded data removed]",
      "text/plain": [
       "<Figure size 432x288 with 1 Axes>"
      ]
     },
     "metadata": {
      "needs_background": "light"
     },
     "output_type": "display_data"
    }
   ],
   "source": [
    "# SVM  \n",
    "plt.plot(range(len(test_y)), test_y,label=\"Test Data\") \n",
    "plt.plot(range(len(test_y)), Y_pred3,label=\"Predicted\")\n",
    "plt.xlabel('x - axis') \n",
    "plt.ylabel('AQI')\n",
    "plt.title('SVM')\n",
    "plt.legend()\n",
    "plt.show() "
   ]
  },
  {
   "cell_type": "code",
   "execution_count": 21,
   "metadata": {},
   "outputs": [
    {
     "name": "stdout",
     "output_type": "stream",
     "text": [
      "Test RMSE: 60.922\n"
     ]
    }
   ],
   "source": [
    "rmse3 = np.sqrt(mean_squared_error(Y_pred2, test_y))\n",
    "print('Test RMSE: %.3f' % rmse3)"
   ]
  },
  {
   "cell_type": "code",
   "execution_count": 22,
   "metadata": {},
   "outputs": [
    {
     "data": {
      "image/png": "[encoded data removed]",
      "text/plain": [
       "<Figure size 432x288 with 1 Axes>"
      ]
     },
     "metadata": {
      "needs_background": "light"
     },
     "output_type": "display_data"
    }
   ],
   "source": [
    "# Dession Tree  \n",
    "plt.plot(range(len(test_y)), test_y,label=\"Test Data\") \n",
    "plt.plot(range(len(test_y)), Y_pred2,label=\"Predicted\")\n",
    "plt.xlabel('x - axis') \n",
    "plt.ylabel('AQI')\n",
    "plt.title('Decision Tree')\n",
    "plt.legend()\n",
    "plt.show() "
   ]
  },
  {
   "cell_type": "code",
   "execution_count": 23,
   "metadata": {},
   "outputs": [
    {
     "name": "stdout",
     "output_type": "stream",
     "text": [
      "Test RMSE: 64.472\n"
     ]
    }
   ],
   "source": [
    "rmse4 = np.sqrt(mean_squared_error(Y_prediction, test_y))\n",
    "print('Test RMSE: %.3f' % rmse4)"
   ]
  },
  {
   "cell_type": "code",
   "execution_count": 24,
   "metadata": {},
   "outputs": [
    {
     "data": {
      "image/png": "[encoded data removed]",
      "text/plain": [
       "<Figure size 432x288 with 1 Axes>"
      ]
     },
     "metadata": {
      "needs_background": "light"
     },
     "output_type": "display_data"
    }
   ],
   "source": [
    "# Random Forest \n",
    "plt.plot(range(len(test_y)), test_y,label=\"Test Data\") \n",
    "plt.plot(range(len(test_y)), Y_prediction,label=\"Predicted\")\n",
    "plt.xlabel('x - axis') \n",
    "plt.ylabel('AQI')\n",
    "plt.title('Random forest')\n",
    "plt.legend()\n",
    "plt.show() "
   ]
  },
  {
   "cell_type": "code",
   "execution_count": null,
   "metadata": {},
   "outputs": [],
   "source": [
    "# Serialize mlp_nn object into a file called mlp_nn.pkg on disk using pickle\n",
    "import pickle\n",
    "with open('decisionTree.pkl', 'wb') as handle:\n",
    "    pickle.dump(decision_tree, handle, pickle.HIGHEST_PROTOCOL)\n",
    "    "
   ]
  },
  {
   "cell_type": "code",
   "execution_count": null,
   "metadata": {},
   "outputs": [],
   "source": [
    "# de-serialize mlp_nn.pkl file into an object called mlp_nn using pickle\n",
    "with open('decisionTree.pkl', 'rb') as handle:\n",
    "    aqiModel = pickle.load(handle) "
   ]
  },
  {
   "cell_type": "code",
   "execution_count": null,
   "metadata": {},
   "outputs": [],
   "source": [
    "test_x"
   ]
  },
  {
   "cell_type": "code",
   "execution_count": null,
   "metadata": {},
   "outputs": [],
   "source": []
  },
  {
   "cell_type": "code",
   "execution_count": null,
   "metadata": {},
   "outputs": [],
   "source": []
  }
 ],
 "metadata": {
  "kernelspec": {
   "display_name": "Python 3",
   "language": "python",
   "name": "python3"
  },
  "language_info": {
   "codemirror_mode": {
    "name": "ipython",
    "version": 3
   },
   "file_extension": ".py",
   "mimetype": "text/x-python",
   "name": "python",
   "nbconvert_exporter": "python",
   "pygments_lexer": "ipython3",
   "version": "3.6.5"
  }
 },
 "nbformat": 4,
 "nbformat_minor": 4
}
