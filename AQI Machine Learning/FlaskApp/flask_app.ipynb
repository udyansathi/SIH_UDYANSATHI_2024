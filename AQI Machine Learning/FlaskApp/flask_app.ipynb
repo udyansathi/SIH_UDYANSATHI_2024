{
 "cells": [
  {
   "cell_type": "code",
   "execution_count": 1,
   "metadata": {},
   "outputs": [
    {
     "ename": "ModuleNotFoundError",
     "evalue": "No module named 'flask_cors'",
     "output_type": "error",
     "traceback": [
      "\u001b[1;31m---------------------------------------------------------------------------\u001b[0m",
      "\u001b[1;31mModuleNotFoundError\u001b[0m                       Traceback (most recent call last)",
      "\u001b[1;32m<ipython-input-1-64018653294c>\u001b[0m in \u001b[0;36m<module>\u001b[1;34m\u001b[0m\n\u001b[0;32m      2\u001b[0m \u001b[1;32mimport\u001b[0m \u001b[0mos\u001b[0m\u001b[1;33m\u001b[0m\u001b[0m\n\u001b[0;32m      3\u001b[0m \u001b[1;32mfrom\u001b[0m \u001b[0mflask\u001b[0m \u001b[1;32mimport\u001b[0m \u001b[0mFlask\u001b[0m\u001b[1;33m,\u001b[0m\u001b[0mjsonify\u001b[0m\u001b[1;33m,\u001b[0m\u001b[0mrequest\u001b[0m\u001b[1;33m\u001b[0m\u001b[0m\n\u001b[1;32m----> 4\u001b[1;33m \u001b[1;32mfrom\u001b[0m \u001b[0mflask_cors\u001b[0m \u001b[1;32mimport\u001b[0m \u001b[0mCORS\u001b[0m\u001b[1;33m\u001b[0m\u001b[0m\n\u001b[0m\u001b[0;32m      5\u001b[0m \u001b[1;32mfrom\u001b[0m \u001b[0mpredictor\u001b[0m \u001b[1;32mimport\u001b[0m \u001b[0mmy_aqi_predictor\u001b[0m\u001b[1;33m\u001b[0m\u001b[0m\n\u001b[0;32m      6\u001b[0m \u001b[1;33m\u001b[0m\u001b[0m\n",
      "\u001b[1;31mModuleNotFoundError\u001b[0m: No module named 'flask_cors'"
     ]
    }
   ],
   "source": [
    "\n",
    "import json\n",
    "import os\n",
    "from flask import Flask,jsonify,request\n",
    "from flask_cors import CORS\n",
    "from predictor import my_aqi_predictor\n",
    "\n",
    "app = Flask(__name__)\n",
    "CORS(app)\n",
    "@app.route(\"/aqi/\",methods=['GET'])\n",
    "def return_aqi():\n",
    "    PM25 = request.args.get('PM25')\n",
    "    PM10 = request.args.get('PM10')\n",
    "    CO = request.args.get('CO')\n",
    "    NO2 = request.args.get('NO2')\n",
    "    O3 = request.args.get('O3')\n",
    "    NH3 = request.args.get('NH3')\n",
    "    SO2 = request.args.get('SO2')\n",
    "    TEMPRATURE = request.args.get('TEMPRATURE')\n",
    "    ALTITUDE = request.args.get('ALTITUDE')\n",
    "    HUMIDITY = request.args.get('HUMIDITY')\n",
    "    Day = request.args.get('Day')\n",
    "    Month = request.args.get('Month')\n",
    "    Year = request.args.get('Year')\n",
    "    Weekday = request.args.get('Weekday')\n",
    "    Hour = request.args.get('Hour')\n",
    "    AQI = my_aqi_predictor.predict(PM25,PM10,CO,NO2,O3,NH3,SO2,TEMPRATURE,ALTITUDE,HUMIDITY,Year,Month,Day,Hour,Weekday) \n",
    "    aqi_dict = {\n",
    "                'model':'decisionTree',\n",
    "                'aqi': AQI,\n",
    "                }\n",
    "    return jsonify(aqi_dict)\n",
    "\n",
    "@app.route(\"/\",methods=['GET'])\n",
    "def default():\n",
    "  return \"<h1> Welcome to AQI predictor <h1>\"\n",
    "\n",
    "if __name__ == \"__main__\":\n",
    "    app.run() "
   ]
  }
 ],
 "metadata": {
  "kernelspec": {
   "display_name": "Python 3",
   "language": "python",
   "name": "python3"
  },
  "language_info": {
   "codemirror_mode": {
    "name": "ipython",
    "version": 3
   },
   "file_extension": ".py",
   "mimetype": "text/x-python",
   "name": "python",
   "nbconvert_exporter": "python",
   "pygments_lexer": "ipython3",
   "version": "3.6.5"
  }
 },
 "nbformat": 4,
 "nbformat_minor": 4
}
