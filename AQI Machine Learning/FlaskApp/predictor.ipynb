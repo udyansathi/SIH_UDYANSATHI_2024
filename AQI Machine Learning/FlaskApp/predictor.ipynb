{
 "cells": [
  {
   "cell_type": "code",
   "execution_count": null,
   "metadata": {},
   "outputs": [],
   "source": [
    "\n",
    "import pickle\n",
    "import pandas as pd\n",
    "import numpy as np\n",
    "from sklearn.neural_network import MLPRegressor\n",
    "\n",
    "class my_aqi_predictor():\n",
    "  def __init__(self):\n",
    "    pass\n",
    "  \n",
    "  def deserialize(self):\n",
    "    # de-serialize decisionTree.pkl file into an object called model using pickle\n",
    "    with open('decisionTree.pkl', 'rb') as handle:\n",
    "      model = pickle.load(handle)\n",
    "     return model\n",
    "  \n",
    "  def predict(self,PM25,PM10,CO,NO2,O3,NH3,SO2,TEMPRATURE,ALTITUDE,HUMIDITY,Year,Month,Day,Hour,Weekday):\n",
    "    model = self.deserialize()\n",
    "    return model.predict(np.array([[PM25,PM10,CO,NO2,O3,NH3,SO2,TEMPRATURE,ALTITUDE,HUMIDITY,Year,Month,Day,Hour,Weekday]]))"
   ]
  }
 ],
 "metadata": {
  "kernelspec": {
   "display_name": "Python 3",
   "language": "python",
   "name": "python3"
  },
  "language_info": {
   "codemirror_mode": {
    "name": "ipython",
    "version": 3
   },
   "file_extension": ".py",
   "mimetype": "text/x-python",
   "name": "python",
   "nbconvert_exporter": "python",
   "pygments_lexer": "ipython3",
   "version": "3.6.5"
  }
 },
 "nbformat": 4,
 "nbformat_minor": 4
}
